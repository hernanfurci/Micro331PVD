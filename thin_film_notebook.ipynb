{
 "cells": [
  {
   "cell_type": "markdown",
   "id": "423399d3-287b-4e09-84c9-4af0e19806af",
   "metadata": {},
   "source": [
    "#  **Thin Films Deposition** \n"
   ]
  },
  {
   "cell_type": "markdown",
   "id": "e6943c2d-5b54-4d6b-acb3-8d0e18cfc560",
   "metadata": {},
   "source": [
    "### __Before you start the notebook please run the import section bellow.__"
   ]
  },
  {
   "cell_type": "code",
   "execution_count": 1,
   "id": "feb58fe1-1bea-4c69-83fb-1866bfa90099",
   "metadata": {},
   "outputs": [
    {
     "data": {
      "text/html": [
       "\n",
       "<script>\n",
       "    // Function to suppress JavaScript error messages\n",
       "    function suppress_js_errors() {\n",
       "        window.onerror = function(message, source, lineno, colno, error) {\n",
       "            return true;\n",
       "        };\n",
       "    }\n",
       "    // Call the function to suppress JavaScript error messages\n",
       "    suppress_js_errors();\n",
       "</script>\n"
      ],
      "text/plain": [
       "<IPython.core.display.HTML object>"
      ]
     },
     "execution_count": 1,
     "metadata": {},
     "output_type": "execute_result"
    }
   ],
   "source": [
    "import numpy as np\n",
    "import pandas as pd\n",
    "from IPython.display import display, HTML\n",
    "from base64 import b64encode\n",
    "import matplotlib.pyplot as plt\n",
    "from ipywidgets import interact, IntSlider, Dropdown, Output, Layout, FloatSlider, Label, widgets\n",
    "import plotly.subplots as sp\n",
    "import plotly.graph_objs as go\n",
    "import plotly.graph_objects as go\n",
    "from scipy.ndimage import gaussian_filter1d\n",
    "from scipy.interpolate import interp1d, CubicSpline\n",
    "\n",
    "HTML(\"\"\"\n",
    "<script>\n",
    "    // Function to suppress JavaScript error messages\n",
    "    function suppress_js_errors() {\n",
    "        window.onerror = function(message, source, lineno, colno, error) {\n",
    "            return true;\n",
    "        };\n",
    "    }\n",
    "    // Call the function to suppress JavaScript error messages\n",
    "    suppress_js_errors();\n",
    "</script>\n",
    "\"\"\")"
   ]
  },
  {
   "cell_type": "markdown",
   "id": "6e705e3e-ffd7-4880-95f5-f3647a1ac8b1",
   "metadata": {},
   "source": [
    "# *Theory of thin film deposition*\n",
    "\n",
    "A **thin film** is a layer of material whose thickness spans from fractions of a nanometer to several micrometers. Being a pivotal step in microfabrication processes, thin film deposition enables the assembly of the various materials that constitute the device. Nevertheless, thin film deposition mainly focuses on the application of materials, necessitating the use of other techniques (e.g., etching, lift-off) to sculpt the layer into its desired form.\n",
    "\n",
    "Although multiple techniques can deposit identical materials, each is accompanied by its unique constraints, resulting in layers with distinct properties.\n",
    "\n",
    "## Physical Vapor Deposition (PVD)\n",
    "\n",
    "**PVD** comprises a spectrum of vacuum deposition techniques that are employed to produce thin films and coatings on a diverse range of substrates, including metals, ceramics, glass, and polymers. PVD is characterized by a process in which a material undergoes a phase transition: from a condensed phase to a vapor phase, and then back to a thin film condensed phase.\n",
    "\n",
    "### E-Beam Evaporation\n",
    "\n",
    "**E-Beam Evaporation** is a method that involves the evaporation of a material (be it grains, pieces, or tablets) situated in a crucible heated by a highly energetic electron beam. the wafers are placed upuside down on a dome at the top of the machine. The crucible is positionned at the bottom along with its heating system and the shutter. During the whole process the chamber is closed and pumped at very low pressures to allow the process to happend and to insure the purity of the deposition.\n",
    "<br>\n",
    "The substrat (wafer) is spaced at distance ranging from 10 centimeters to more then a meter depending on the application. This allows for very good film uniformities.\n",
    "This type of process allow for the use of quartz resonators to measure the thickness which have a precision in the order of the tenth of angstrom. \n",
    "\n",
    "<img src=\"evaporation schematic.PNG\">\n",
    "\n",
    "__Here is the inside of an evaporation machine when opened__ \n",
    "\n",
    "`Run the next cell to see the video about evaporation`"
   ]
  },
  {
   "cell_type": "code",
   "execution_count": null,
   "id": "84f85a6a-9e46-4955-8d02-4f338a92c1fd",
   "metadata": {},
   "outputs": [],
   "source": [
    "mp4 = open('evaporation_clip.mp4','rb').read()\n",
    "data_url = \"data:video/mp4;base64,\" + b64encode(mp4).decode()\n",
    "HTML(\"\"\"\n",
    "<video width=1000 controls>\n",
    "      <source src=\"%s\" type=\"video/mp4\">\n",
    "</video>\n",
    "\"\"\" % data_url)"
   ]
  },
  {
   "cell_type": "markdown",
   "id": "7af083d3-5bb7-4cb6-8d08-cdd985c7bc20",
   "metadata": {},
   "source": [
    "_Clip description:_ This clip shows an evaporation machine mainly used in the context of lift-off processes with its large crucible to wafer distance. From 0 to 5 seconds: the outside of the chamber which constitutes the vaccum chamber. From 5 to 11 seconds: the wafer holders at the top of the machine. From 12 seconds til the end: the materials (the crucibles) which are installed at the bottom next to an electron beam gun, multiple materials are installed to allow for multi-layer deposition without having to pump back the chamber.\n",
    "\n",
    "### Sputtering\n",
    "\n",
    "**Sputtering** is a process initiated by a plasma; the ions generated are accelerated towards the target's surface (a block of material intended for deposition onto your substrate). Some atoms are ejected from the surface due to ion bombardment, and these sputtered atoms redeposit onto the sample surfaces to form a thin film. The three primary types of sputtering are DC Sputtering, RF Sputtering, and Magnetron Sputtering, each differing by the material that can be sputtered and the effects on the machine's wear.\n",
    "<br>\n",
    "The substrat is often placed at ranges from 2 to 15 centimeters from the target.\n",
    "<br>\n",
    "As there is a plasma inside the chamber there aren't any suitable sensors which can be used. The deposition rate is constant for constant parameters, so the thickness is defined by the process duration.\n",
    "\n",
    "![Image of a target](sputtering_target.png)\n",
    "<br>\n",
    "__Here are images of sputtering targets__\n",
    "\n",
    "`Run the next cell to see the video about sputtering`\n"
   ]
  },
  {
   "cell_type": "code",
   "execution_count": null,
   "id": "e33c8516-c7a1-471c-a7d3-2cfd4e05d371",
   "metadata": {},
   "outputs": [],
   "source": [
    "mp4 = open('sputtering_clip.mp4','rb').read()\n",
    "data_url = \"data:video/mp4;base64,\" + b64encode(mp4).decode()\n",
    "HTML(\"\"\"\n",
    "<video width=1000 controls>\n",
    "      <source src=\"%s\" type=\"video/mp4\">\n",
    "</video>\n",
    "\"\"\" % data_url)"
   ]
  },
  {
   "cell_type": "markdown",
   "id": "e5a70e07",
   "metadata": {},
   "source": [
    "_Clip description:_ This clip shows two different sputtering machines. The first one where you only see the back of it with four process chambers and a loading chamber at the center. The other one with a load lock and a process chamber. Inside both machines, targets are placed upside down and the system to generate the plasma are located around it. You can also note the relative short distance between the target and the wafer."
   ]
  },
  {
   "cell_type": "markdown",
   "id": "c587c397-031e-40b5-8eb8-4b9018fb52c0",
   "metadata": {},
   "source": [
    "## Comparison of PVD techniques\n",
    "\n",
    "The following table from the [pdv course](final_files_dril/MICRO-331_Week3_PVD.pdf)\n",
    " provides a good comparison of the diffrent PVD techniques. Keep in mind that IAD, MBE and PLD aren't explained here as they are less common techniques which are used in specific processes."
   ]
  },
  {
   "cell_type": "markdown",
   "id": "6681a96f-23bb-46d8-8f0c-2bb404d73570",
   "metadata": {},
   "source": [
    "<img src=\"pvd_comparison.jpg\" width=\"70%\" height=\"400\">"
   ]
  },
  {
   "cell_type": "markdown",
   "id": "1b13ace5-5188-4cfc-bb8d-e58eb3e74853",
   "metadata": {},
   "source": [
    "## Chemical Vapor Deposition (CVD)\n",
    "\n",
    "CVD involves exposing the wafer (substrate) to one or more volatile precursors, which react and/or decompose on the substrate's surface to yield the desired deposit. Volatile by-products are often generated, which are then removed by gas flow through the reaction chamber. The principal difference between CVD and PVD is the nature of the deposition: in PVD, the deposition is achieved through physical means, whereas in CVD, a surface reaction induces the deposition.\n",
    "\n",
    "Consequently, both methods yield differing deposition profiles.\n",
    "\n",
    "<img src=\"cvd_profile.png\" width=\"400\" height=\"400\">\n",
    "\n",
    "__Cross section of a cvd deposition__"
   ]
  },
  {
   "cell_type": "markdown",
   "id": "e3e5f2a9-78e4-4c5c-9f42-ce1a37c27894",
   "metadata": {},
   "source": [
    "# *Exercice Section*\n",
    "* # Film selection\n",
    "\n",
    "_Your first task is to select the material you will use for your layer. It has to optimized the parameters of design that you found in the `main` notebook._\n",
    "<br>\n",
    "_This task is essential to any micro-fabrication design as this will constitute the active layer(s) the device._\n",
    "\n",
    "You have access to some information about materials which can be deposited with PVD. With the first table, find the material you want to use for your active layer. \n",
    "<br>\n",
    "Based on its proprieties then you can select an adhesion layer using the second table. It can be crucial as many material have a very poor adhesion on Silicon or Silica.\n",
    "\n",
    "`Run the following cells to select the thin film you want to deposit and its adhesion layer if needed.`"
   ]
  },
  {
   "cell_type": "code",
   "execution_count": null,
   "id": "cb4e9d46-5df4-41b3-b70f-cfe925fe77c8",
   "metadata": {},
   "outputs": [],
   "source": [
    "# Define the data for the table\n",
    "data = {\n",
    "    'Material': ['Pt', 'Au', 'Ti', 'Cu', 'Al'],\n",
    "    'Electrical Resistivity Theoritical (ohm/m)': [1.06e-7, 2.21e-8, 4.35e-7, 1.68e-8, 2.65e-8] ,\n",
    "    'Electrical Resistivity Measured (ohm/m)': [1.71e-7, 5.06e-8,8.35e-7,1.85e-8,4.25e-8],\n",
    "    'Price (CHF/g)': [35, 60, 0.5, 0.05, 0.03],\n",
    "    'Usual Roughness (nm)': [1, 1, 2, 1, 2],\n",
    "    'Deposition Rate Range - Evaporation (nm/min)': ['3-100', '3-100', '1-100', '10-200', '5-150'],\n",
    "    'Deposition Rate Range - Sputtering (nm/min)': ['35-270', '20-120', '10-120', '8-180', '40-215'],\n",
    "    'Adhesion Layer Required': ['Yes', 'Yes', 'No', 'No', 'Yes']\n",
    "}\n",
    "\n",
    "# Create a DataFrame\n",
    "materials_df = pd.DataFrame(data)\n",
    "\n",
    "# Create a dropdown widget for selecting the material\n",
    "material_dropdown_pvd = widgets.Dropdown(\n",
    "    options=['Pt', 'Au', 'Ti', 'Cu', 'Al'],\n",
    "    value='Pt',\n",
    "    description='Material:',\n",
    "    disabled=False,\n",
    ")\n",
    "\n",
    "# Create a button to display the selected material's properties\n",
    "display_properties_button = widgets.Button(description=\"Display Properties\")\n",
    "\n",
    "# Define a function to handle button clicks\n",
    "def on_display_properties_button_click(button):\n",
    "    display_material_properties(material_dropdown_pvd.value)\n",
    "\n",
    "display_properties_button.on_click(on_display_properties_button_click)\n",
    "\n",
    "# Create an Output widget to display the material properties\n",
    "output_widget = widgets.Output()\n",
    "\n",
    "def display_material_properties(material):\n",
    "    # Clear the previous output\n",
    "    output_widget.clear_output()\n",
    "    \n",
    "    selected_material = materials_df[materials_df['Material'] == material]\n",
    "    \n",
    "    # Create a Plotly table\n",
    "    table = go.Figure(data=[go.Table(\n",
    "        header=dict(values=list(selected_material.columns),\n",
    "                    fill_color='paleturquoise',\n",
    "                    align='left'),\n",
    "        cells=dict(values=[selected_material[col] for col in selected_material.columns],\n",
    "                   fill_color='lavender',\n",
    "                   align='left'))\n",
    "    ])\n",
    "    \n",
    "    # Display the properties of the selected material within the Output widget\n",
    "    with output_widget:\n",
    "        display(table.show())"
   ]
  },
  {
   "cell_type": "code",
   "execution_count": null,
   "id": "a7b4599e-1611-411c-81d4-91228ba608fc",
   "metadata": {},
   "outputs": [],
   "source": [
    "# Display the widgets and the Output widget\n",
    "display(material_dropdown_pvd)\n",
    "display(display_properties_button)\n",
    "display(output_widget)"
   ]
  },
  {
   "cell_type": "markdown",
   "id": "3e6a1199",
   "metadata": {},
   "source": [
    "`It is important to understand that the bulk resistivity varies in microfabrication. Indeed, the mater isn't perfect and growths in many different ways. Also it is ordered in a certain maner depending on the process used to deposit it. Thus it is important to keep in mind that the value of the resistivity will change depending on the type of process, the purity of the target and the chamber, parameters of the process and the nature of the substrat. Here the values provided come from values measured directly at the CMi but for a sputtering machine. You can already see the difference with the theory.`"
   ]
  },
  {
   "cell_type": "code",
   "execution_count": null,
   "id": "d4dc13c7-fcef-476b-baab-dd8a44f4d154",
   "metadata": {},
   "outputs": [],
   "source": [
    "# Define the data for the adhesion layers table\n",
    "adhesion_data = {\n",
    "    'Adhesion Layer': ['Ti', 'Cr', 'Ta', 'Ni'],\n",
    "    'Price (USD/g)': [0.5, 0.02, 2, 0.03],\n",
    "    'Deposition Rate Range - Evaporation (nm/min)': ['1-100', '1-200', '0.5-50', '5-100'],\n",
    "    'Deposition Rate Range - Sputtering (nm/min)': ['10-120', '25-50', '20-150', '10-60'],\n",
    "    'Typical Thickness (nm)': [1, 1, 1, 1],\n",
    "    'Commonly Used With': ['Au, Pt, Al', 'Au, Al', 'Pt, Refractory Metals', 'Au, Ag, Cu'],\n",
    "}\n",
    "\n",
    "# Create a DataFrame\n",
    "adhesion_layers_df = pd.DataFrame(adhesion_data)\n",
    "\n",
    "# Create a dropdown widget for selecting the material\n",
    "material_dropdown_adhesion = widgets.Dropdown(\n",
    "    options=['Ti', 'Cr', 'Ta', 'Ni'],\n",
    "    value='Ti',\n",
    "    description='Adhesion layer materials:',\n",
    "    disabled=False,\n",
    ")\n",
    "\n",
    "# Create a button to display the selected material's properties\n",
    "display_properties_button_adh = widgets.Button(description=\"Display Properties\")\n",
    "\n",
    "# Define a function to handle button clicks\n",
    "def on_display_properties_button_click_adh(button):\n",
    "    display_material_properties_adh(material_dropdown_adhesion.value)\n",
    "\n",
    "display_properties_button_adh.on_click(on_display_properties_button_click_adh)\n",
    "\n",
    "# Create an Output widget to display the material properties\n",
    "output_widget = widgets.Output()\n",
    "\n",
    "def display_material_properties_adh(material):\n",
    "    # Clear the previous output\n",
    "    output_widget.clear_output()\n",
    "    \n",
    "    selected_material = adhesion_layers_df[adhesion_layers_df['Adhesion Layer'] == material]\n",
    "    \n",
    "    # Create a Plotly table\n",
    "    table = go.Figure(data=[go.Table(\n",
    "        header=dict(values=list(selected_material.columns),\n",
    "                    fill_color='paleturquoise',\n",
    "                    align='left'),\n",
    "        cells=dict(values=[selected_material[col] for col in selected_material.columns],\n",
    "                   fill_color='lavender',\n",
    "                   align='left'))\n",
    "    ])\n",
    "    \n",
    "    # Display the properties of the selected material within the Output widget\n",
    "    with output_widget:\n",
    "        display(table.show())"
   ]
  },
  {
   "cell_type": "code",
   "execution_count": null,
   "id": "bfd09458-80fd-4ee8-a5ad-cd4055b8e802",
   "metadata": {},
   "outputs": [],
   "source": [
    "# Display the widgets and the Output widget\n",
    "display(material_dropdown_adhesion)\n",
    "display(display_properties_button_adh)\n",
    "display(output_widget)"
   ]
  },
  {
   "cell_type": "markdown",
   "id": "cd8f9bad-b6e1-41ae-a1e1-3d6b5a95e33d",
   "metadata": {},
   "source": [
    "`You might be tempted to work with copper. However when doing microfabrication it isn't never used in practice as it produces poor results. Materials like gold and aluminium are often preferred. Also adhesion layers aren't seen as negative as they insure a very good adhesion on any substrat. As they are very thin compared to the main layer they can often be neglected in their impact on the conductivity of the wire.`"
   ]
  },
  {
   "cell_type": "markdown",
   "id": "0f5fdd3e-2c19-4848-afe8-ef42e1bfa3cd",
   "metadata": {},
   "source": [
    "* # Pumping step"
   ]
  },
  {
   "cell_type": "markdown",
   "id": "75d9f3a4-69d3-4482-b37b-a0a7ee8128ea",
   "metadata": {},
   "source": [
    "The pumping is a key step in many deposition. Indeed the processes need to happend at very low pressure both for the process to be stable and also for garanting the purity of the final film.\n",
    "In many machines there exist some load lock mechanism where the machine is split between multiple chambers with the usual configuration being: load lock <-> transfer module <-> process chamber.\n",
    "<br>\n",
    "The load lock is a small chamber which only serves as an hosting chamber for the wafers. With its small volume it is very fast to pump.\n",
    "The transfer module hosts a robotic arm which transfers the wafer into the chamber. \n",
    "The process chamber hosts the process. It contains the material which will be deposited and the wafer during the process. It is only vented when the materials are changed.\n",
    "<br>\n",
    "Usually there are multiple process chambers they can also be used for other processes than thin film deposition (dry etching, plasma cleaning...).\n",
    "<br>\n",
    "\n",
    "However in many cases the machine is made of a single chamber. In this case the pumping step can be very limiting as it often represents most of the time of the process.\n",
    "<br>\n",
    "\n",
    "It is the case most evaporators. Unfortunately the larger the chamber, the larger the mean free path.\n",
    "As an order of magnitude the mean free path needs to be at least 100 order of magnitude larger than the travel path from the crucible to the wafer in evaporation.\n",
    "<br>\n",
    "However the pumping time growth explodes as you reach very low pressures. Thus, a comprime has to be found."
   ]
  },
  {
   "cell_type": "markdown",
   "id": "f17b3afc-d6fb-4747-b737-4fc54de5be25",
   "metadata": {
    "tags": []
   },
   "source": [
    "\n",
    "- **λ (l)**: mean free path in [m]\n",
    "- **R**: gas constant in [J/(mol·K)]\n",
    "- **T**: temperature in [K]\n",
    "- **M**: molar mass in [kg/mol]\n",
    "- **η (h)**: gas viscosity in [Pa·s]\n",
    "- **P**: reactor pressure in [Pa]\n",
    "\n",
    "The mean free path, λ (l), can be calculated with the following equation:\n",
    "\n",
    "## $ \\lambda = \\sqrt{\\frac{\\pi R T}{2 M}}\\frac{\\eta}{P} \\text{ in }   [m]$\n",
    "\n"
   ]
  },
  {
   "cell_type": "code",
   "execution_count": null,
   "id": "eb3fd140-38ab-4b81-a1d4-8d031bf9fe26",
   "metadata": {},
   "outputs": [],
   "source": [
    "%matplotlib widget\n",
    "\n",
    "# Constants\n",
    "R = 8.314    # ideal gas constant, J/(mol*K)\n",
    "T = 298.15   # absolute temperature, K\n",
    "M = 0.02897  # molar mass of air, kg/mol\n",
    "eta = 1.8e-5 # dynamic viscosity of air at room temperature, Pa*s\n",
    "pi = np.pi   # pi constant\n",
    "\n",
    "# Pressure range in millibars\n",
    "P_mbar = np.logspace(-9, -3, 1000) # from 1 atmosphere to 10 atmospheres\n",
    "P_pa = P_mbar * 100  # convert from mbar to Pa\n",
    "\n",
    "# Mean free path calculation\n",
    "lambda_ = np.sqrt(pi * R * T / (2 * M)) * eta / P_pa \n",
    "\n",
    "# Plot\n",
    "plt.figure(figsize=(10, 6))\n",
    "plt.loglog(P_mbar, lambda_)\n",
    "plt.xlabel('Pressure (mbar)')\n",
    "plt.ylabel('Mean Free Path (m)')\n",
    "plt.title('Mean Free Path as a function of Pressure (Logarithmic Scale)')\n",
    "plt.grid(True)\n",
    "plt.show()"
   ]
  },
  {
   "cell_type": "markdown",
   "id": "582d3510-2060-4169-9911-9a0a8dde9605",
   "metadata": {},
   "source": [
    "`Keep in mind that the pumping time in second is around 50 to 100 times the value of the mean free path. Thus, pumping to 10-6 mbar will take less than 30 minutes but going to 10-7 will take almost two hours.`"
   ]
  },
  {
   "cell_type": "markdown",
   "id": "fc1f930b-1de7-4c06-beb7-354569034351",
   "metadata": {},
   "source": [
    "* # Evaporation"
   ]
  },
  {
   "cell_type": "markdown",
   "id": "6a7256a3-a1cd-4585-9ff9-d88661f4af66",
   "metadata": {},
   "source": [
    "In the following section you will explore the different parameters as well as model approximations of evaporations. \n",
    "\n",
    "<br>\n",
    "Here are the following parameters you havea access to:\n",
    "<br>\n",
    "* __Distance__ : it is the distance between the crucible and the wafer. It is the most significant parameter (when you have the right pressure and a stable evaporation) in an evaporation process. \n",
    "* __Wafer size__: 5, 10 or 16 cm of diameters. Larger wafers allow for better scalability of the process but lead to less uniform processes (also the case for other steps than thin film deposition). Smaller wafer are mainly used for research where even chips of 10 by 10 mm squares are used. Allowing for a reduced price while insuring uniform processes.\n",
    "* __Source approximation__: The source can be approximated to be a point or a surface. When the source is assumed to be a point all evaporation is assumued to come from it while surface evaporation assumes the evaporated material can come from all of the sruface of the crucible. In practice the evaporation comes from a surface which size depends on the material and the power used to the evaporation.\n",
    "* __Directionnality__: The evaporation flux can either be assumed to be a sphere or a directional flux. In pratice it is more often directional.\n",
    "<br>\n",
    "\n",
    "_Keep in mind this is a simple model which reflects the main effects but doesn't represents a perfect reality as it doesn't take into account thermal effects, growth of the material or roughness which are a lot more advanced and epirical. The parameters of the electron beam gun or the heating system aren't talked about as they aren't relevant to the study of evaporation in the context of microfabrication._\n",
    "<br>\n",
    "\n",
    "The following code allows you to simulate the profile of the evaporated surface. It is mainly here to help you understand the influence of each of these parameters. On the left you have a 3d surface of the wafer and on the right a 2d surface where you can access the exact thickness deposited as a function of the distance of the points from the center of the wafer. For both plot, mind the scale. The aspect ratio can be activated and deactivated for the left figure.\n",
    "\n",
    "__The plot takes a few seconds to update when you change the parameters__"
   ]
  },
  {
   "cell_type": "code",
   "execution_count": 2,
   "id": "e4d7e0b0-b0a7-4bb0-8372-1e975e942f84",
   "metadata": {},
   "outputs": [
    {
     "data": {
      "application/vnd.jupyter.widget-view+json": {
       "model_id": "2432bc0637754bfdbef3695dd55d12df",
       "version_major": 2,
       "version_minor": 0
      },
      "text/plain": [
       "Output(layout=Layout(height='100%', width='100%'))"
      ]
     },
     "metadata": {},
     "output_type": "display_data"
    },
    {
     "data": {
      "application/vnd.jupyter.widget-view+json": {
       "model_id": "81d9029454f84ae7880edb5fa1e149cf",
       "version_major": 2,
       "version_minor": 0
      },
      "text/plain": [
       "interactive(children=(IntSlider(value=50, description='Distance (cm)   ', min=5, step=5, style=SliderStyle(des…"
      ]
     },
     "metadata": {},
     "output_type": "display_data"
    }
   ],
   "source": [
    "%matplotlib widget\n",
    "\n",
    "output_widget = Output(layout={'width': '100%', 'height': '100%'})\n",
    "\n",
    "def calculate_thickness(X, Y, distance, wafer_size, evaporation_type, directionality):\n",
    "    if evaporation_type == 'point':\n",
    "        R = np.sqrt((X - wafer_size / 2) ** 2 + (Y - wafer_size / 2) ** 2 + distance ** 2)\n",
    "        theta = np.arccos(distance / R)\n",
    "        if directionality == 'uniform':\n",
    "            Z = np.cos(theta) ** 2\n",
    "        elif directionality == 'non-uniform':\n",
    "            Z = np.cos(theta)\n",
    "    else:  # evaporation_type == 'surface'\n",
    "        R = np.sqrt((X - wafer_size / 2) ** 2 + (Y - wafer_size / 2) ** 2 + distance ** 2)\n",
    "        theta = np.arccos(distance / R)\n",
    "        if directionality == 'uniform':\n",
    "            Z = np.cos(theta) ** 2\n",
    "        elif directionality == 'non-uniform':\n",
    "            Z = np.cos(theta)\n",
    "    \n",
    "    return Z*100\n",
    "\n",
    "\n",
    "# Precompute 3D shapes\n",
    "def precompute_shapes():\n",
    "    shapes = {}\n",
    "    wafer_sizes = [5, 10, 16]\n",
    "    evaporation_types = ['point', 'surface']\n",
    "    directionalities = ['uniform', 'non-uniform']\n",
    "    distance_values = range(5, 201, 5)\n",
    "\n",
    "    for distance in distance_values:\n",
    "        for wafer_size in wafer_sizes:\n",
    "            x = np.linspace(0, wafer_size, 50)\n",
    "            y = np.linspace(0, wafer_size, 50)\n",
    "            X, Y = np.meshgrid(x, y)\n",
    "            for evaporation_type in evaporation_types:\n",
    "                for directionality in directionalities:\n",
    "                    Z = calculate_thickness(X, Y, distance, wafer_size, evaporation_type, directionality)\n",
    "\n",
    "                    # Circular mask for the wafer\n",
    "                    mask = np.sqrt((X - wafer_size / 2) ** 2 + (Y - wafer_size / 2) ** 2) > wafer_size / 2\n",
    "                    Z[mask] = np.nan\n",
    "\n",
    "                    shapes[(distance, wafer_size, evaporation_type, directionality)] = (X, Y, Z)\n",
    "    return shapes\n",
    "\n",
    "precomputed_shapes = precompute_shapes()\n",
    "\n",
    "def update_square_color(trace, points, selector):\n",
    "    clicked_square_index = points.point_inds[0]\n",
    "    current_color = trace.marker.color[clicked_square_index]\n",
    "    new_color = 'red' if current_color != 'red' else 'green'\n",
    "    trace.marker.color[clicked_square_index] = new_color\n",
    "    trace.marker.colorbar.update()\n",
    "    trace.update()\n",
    "    \n",
    "    \n",
    "\n",
    "\n",
    "@output_widget.capture(clear_output=True)\n",
    "def plot_thickness(distance, wafer_size, evaporation_type, directionality, aspect_ratio):\n",
    "    X, Y, Z = precomputed_shapes[(distance, wafer_size, evaporation_type, directionality)]\n",
    "\n",
    "    fig = sp.make_subplots(rows=1, cols=2, specs=[[{'type': 'surface'}, {'type': 'xy'}]])\n",
    "\n",
    "    # Add colorbar_title to go.Surface trace\n",
    "    fig.add_trace(go.Surface(z=Z, x=X, y=Y, colorscale='Viridis', showscale=False, \n",
    "                             colorbar_title=\"(nm)\"), row=1, col=1)\n",
    "    hover_text = np.empty_like(Z, dtype=object)\n",
    "    for i in range(Z.shape[0]):\n",
    "        for j in range(Z.shape[1]):\n",
    "            R = np.sqrt((X[i, j]- wafer_size/2) ** 2 + (Y[i, j]-wafer_size/2) ** 2)\n",
    "            hover_text[i, j] = f\"distance from the center of the wafer: {R:.2f} cm<br>layer thickness: {Z[i, j]:.2f} nm\"\n",
    "    heatmap = go.Heatmap(z=Z, x=X[0], y=Y[:, 0],text=hover_text, showscale=False, hoverinfo='text',colorscale='Viridis')\n",
    "    fig.add_trace(heatmap, row=1, col=2)\n",
    "    fig.update_xaxes(visible=False, showticklabels=False, row=1, col=2)\n",
    "    fig.update_yaxes(visible=False, showticklabels=False, row=1, col=2)\n",
    "\n",
    "\n",
    "    fig.update_layout(title=f'Thin Film Thickness Uniformity for 100nm evaporation at the center point <br> for a wafer of {wafer_size} cm of diameter',\n",
    "                      height=600, margin=dict(l=10, r=10, t=80, b=10))\n",
    "    z_min = 0\n",
    "    z_min = {5: 97, 10: 95}.get(wafer_size, 85 if distance < 50 else 95)\n",
    "    if aspect_ratio == 'no':\n",
    "        z_min = 0\n",
    "    fig.update_layout(scene=dict(zaxis=dict(range=[z_min, 100])))\n",
    "\n",
    "    # Add click event handler to the heatmap\n",
    "    fig.data[1].on_click(update_square_color)\n",
    "    fig.show()\n",
    "\n",
    "style = {'description_width': 'initial'} \n",
    "    \n",
    "display(output_widget)\n",
    "\n",
    "distance_widget = IntSlider(min=5, max=100, step=5, value=50 , description='Distance (cm)   ', style=style)\n",
    "wafer_size_widget = Dropdown(options=[5, 10, 16], value=5, description='Wafer diameter (cm) ', style=style)\n",
    "evaporation_type_widget = Dropdown(options=['point', 'surface'], value='point', description='Evaporation Type', style=style)\n",
    "directionality_widget = Dropdown(options=['uniform', 'non-uniform'], value='uniform', description='Directionality   ', style=style)\n",
    "aspect_ratio_widget = Dropdown(options=['yes','no'], value='yes', description='Aspect ratio',style=style)\n",
    "interact(plot_thickness, distance=distance_widget, wafer_size=wafer_size_widget, evaporation_type=evaporation_type_widget, directionality=directionality_widget,aspect_ratio=aspect_ratio_widget);\n"
   ]
  },
  {
   "cell_type": "markdown",
   "id": "ecc46ee2-5d01-4523-8d38-abb6185b8a1d",
   "metadata": {},
   "source": [
    "`For a small wafer size the parameters don't have a large impact unless you get very close to the source. However, in the industry the wafer isze needs to be maximized to maximize the throuput of the process (process as much chips as possible in a single step). As of today, the industry uses wafer with a diameter of 300 to 450 mm. `"
   ]
  },
  {
   "cell_type": "markdown",
   "id": "4b7bd36f-2dd4-44c5-99f5-7caf74120a19",
   "metadata": {},
   "source": [
    "* # Evaporation on a slopped profile\n",
    "__This last section illustrates the effect of structures in an evaporation. In the last situation the profile of the wafer was assumed to be flat or with plannar structures which is often the case in micro electronics.__\n",
    "<br>\n",
    "\n",
    "In many advanced micro-engineering cases you will have slopped structures. As you are interested in the normal thickness of deposition which defines most of the proprieties of the layer, this next module focuses on the impact \n",
    "of a slope on the evaporation. On another level it shows the crucial role of having a good structure shape when you perform lift off as any slope would result in material deposition which would block the lift off process.\n",
    "\n",
    "In this exercice you can select which representation model you wish to use. You can change the value of the model variable to experiment other models. There are three possible models: 'course', 'Thornton' and the 'power law'."
   ]
  },
  {
   "cell_type": "code",
   "execution_count": 3,
   "id": "967df969-554e-47ee-9a05-ac67df0dea17",
   "metadata": {},
   "outputs": [
    {
     "data": {
      "application/vnd.jupyter.widget-view+json": {
       "model_id": "195b5592d2a3411f9f34b369a8cafc40",
       "version_major": 2,
       "version_minor": 0
      },
      "text/plain": [
       "Label(value='')"
      ]
     },
     "metadata": {},
     "output_type": "display_data"
    },
    {
     "data": {
      "application/vnd.jupyter.widget-view+json": {
       "model_id": "0b333f83aac7470dab59e93a78e9066d",
       "version_major": 2,
       "version_minor": 0
      },
      "text/plain": [
       "interactive(children=(FloatSlider(value=30.0, description='Angle (degrees)', max=80.0, step=1.0, style=SliderS…"
      ]
     },
     "metadata": {},
     "output_type": "display_data"
    },
    {
     "data": {
      "text/plain": [
       "<function __main__.plot_cross_section(alpha)>"
      ]
     },
     "execution_count": 3,
     "metadata": {},
     "output_type": "execute_result"
    }
   ],
   "source": [
    "model = 'course'\n",
    "\n",
    "def update_thickness_display(alpha, model, initial_thickness=100):\n",
    "    alpha_rad = np.radians(alpha)\n",
    "    t1 = initial_thickness\n",
    "    t2 = slope_thickness(t1,alpha,model)\n",
    "    thickness_display.value = f'Thickness on flat surfaces: {t1:.2f} nm and the thickness on slopes: {t2:.2f} nm'\n",
    "\n",
    "    \n",
    "\n",
    "def slope_thickness(t1,alpha,model): \n",
    "    t2 = 0\n",
    "    alpha_rad = np.radians(alpha)\n",
    "    if model == 'course':\n",
    "        t2 = np.cos(alpha_rad) * t1\n",
    "    elif model == 'Thornton': \n",
    "        critical_angle = np.radians(80)  \n",
    "        if alpha <= critical_angle:\n",
    "            t2 = t1 * (1 - (alpha_rad / critical_angle))\n",
    "        else:\n",
    "            t2 = 0\n",
    "    else:\n",
    "        k = 0.01\n",
    "        t2 = t1 * np.exp(-alpha_rad * k)\n",
    "    \n",
    "    return t2\n",
    "\n",
    "def create_cross_section1(alpha):\n",
    "    alpha = np.radians(alpha)\n",
    "    step = 0.2\n",
    "    x1 = np.linspace(0, 1, 50)\n",
    "    y1 = np.zeros_like(x1) + step\n",
    "\n",
    "    x2 = np.linspace(1, 1 + np.sin(alpha), 50)\n",
    "    y2 = np.linspace(0, 3 * np.cos(alpha), 50) + step\n",
    "\n",
    "    x3 = np.linspace(1 + np.sin(alpha), 1 + np.sin(alpha) + np.cos(alpha), 50)\n",
    "    y3 = np.ones_like(x3) * 3 * np.cos(alpha) + step\n",
    "\n",
    "    x4 = np.linspace(1 + np.sin(alpha) + np.cos(alpha), 1 + np.sin(alpha) + np.cos(alpha) + np.sin(alpha), 50)\n",
    "    y4 = np.linspace(3 * np.cos(alpha), 0, 50) + step\n",
    "\n",
    "    x5 = np.linspace(2 + 2 * np.sin(alpha), 3 + 2 * np.sin(alpha), 50)\n",
    "    y5 = np.zeros_like(x5) + step\n",
    "\n",
    "    x = np.concatenate((x1, x2, x3, x4, x5))\n",
    "    y = np.concatenate((y1, y2, y3, y4, y5))\n",
    "\n",
    "    return x, y, y + step\n",
    "\n",
    "def create_cross_section(alpha):\n",
    "    alpha = np.radians(alpha)\n",
    "    step = 0.2\n",
    "    x1 = np.linspace(0, 1, 50)\n",
    "    y1 = np.zeros_like(x1) + step\n",
    "\n",
    "    x2 = np.linspace(1, 1 + np.cos(alpha), 50)\n",
    "    y2 = np.linspace(0, 3 * np.sin(alpha), 50) + step\n",
    "\n",
    "    x3 = np.linspace(1 + np.cos(alpha), 1 + np.sin(alpha) + np.cos(alpha), 50)\n",
    "    y3 = np.ones_like(x3) * 3 * np.sin(alpha) + step\n",
    "\n",
    "    x4 = np.linspace(1 + np.sin(alpha) + np.cos(alpha), 1 + np.cos(alpha) + np.cos(alpha) + np.sin(alpha), 50)\n",
    "    y4 = np.linspace(3 * np.sin(alpha), 0, 50) + step\n",
    "\n",
    "    x5 = np.linspace(2 + 2 * np.cos(alpha), 3 + 2 * np.cos(alpha), 50)\n",
    "    y5 = np.zeros_like(x5) + step\n",
    "\n",
    "    x = np.concatenate((x1, x2, x3, x4, x5))\n",
    "    y = np.concatenate((y1, y2, y3, y4, y5))\n",
    "\n",
    "    return x, y, y + step\n",
    "\n",
    "def plot_cross_section(alpha):\n",
    "    x, y, y_plus_t = create_cross_section(alpha)\n",
    "    fig = go.Figure()\n",
    "\n",
    "    fig.add_trace(go.Scatter(x=x, y=y, fill='tozeroy', mode='none', fillcolor='rgba(0, 0, 255, 0.5)', name='Stucture'))\n",
    "    fig.add_trace(go.Scatter(x=x, y=y_plus_t, fill='tonexty', mode='none', fillcolor='rgba(255, 0, 0, 0.5)', name='Deposited layer'))\n",
    "\n",
    "    max_x = np.max(x)\n",
    "    max_y = np.max(y_plus_t)\n",
    "    lim_y = 6\n",
    "    lim_x = 6\n",
    "    fig.update_layout(\n",
    "        title=f'Cross-section with angle {alpha} degrees',\n",
    "        xaxis=dict(\n",
    "            range=[0, max_x],\n",
    "            constrain='domain',\n",
    "            showticklabels=False,\n",
    "            showgrid=False,\n",
    "            zeroline=False\n",
    "        ),\n",
    "        yaxis=dict(\n",
    "            range=[0, lim_y],\n",
    "            scaleanchor='x',\n",
    "            scaleratio=1,\n",
    "            constrain='domain',\n",
    "            showgrid=False,\n",
    "            zeroline=False\n",
    "        ),\n",
    "        plot_bgcolor='white',\n",
    "        margin=dict(l=20, r=20, t=80, b=20),\n",
    "        autosize=False,\n",
    "        width=1000,\n",
    "        height=600\n",
    "    )\n",
    "\n",
    "    fig.show()\n",
    "    update_thickness_display(alpha_slider.value, model)\n",
    "\n",
    "thickness_display = Label()\n",
    "style = {'description_width': 'initial'} \n",
    "display(thickness_display)\n",
    "alpha_slider = FloatSlider(min=0, max=80, step=1, value=30, description='Angle (degrees)',style=style)\n",
    "interact(plot_cross_section, alpha=alpha_slider)"
   ]
  },
  {
   "cell_type": "markdown",
   "id": "12306e90-7f5f-4c11-a577-22ebdcba4a55",
   "metadata": {},
   "source": [
    "`You can know realize the importance of having a perfect structure when doing a lift-off as any rounded shape or non rectangular structure can lead to a deposition of material in the region of the material where the liquid is supposed to come and remove the resist to process to the lift-off`"
   ]
  },
  {
   "cell_type": "markdown",
   "id": "f5758318-2f66-4822-a6ce-2762cfc7c99c",
   "metadata": {},
   "source": [
    "## __This is the end of the thin film section.__\n",
    "## __Please go back to the main notebook and fill the required data from what you found here.__"
   ]
  }
 ],
 "metadata": {
  "kernelspec": {
   "display_name": "Python3",
   "language": "python",
   "name": "python3"
  },
  "language_info": {
   "codemirror_mode": {
    "name": "ipython",
    "version": 3
   },
   "file_extension": ".py",
   "mimetype": "text/x-python",
   "name": "python",
   "nbconvert_exporter": "python",
   "pygments_lexer": "ipython3",
   "version": "3.11.4"
  }
 },
 "nbformat": 4,
 "nbformat_minor": 5
}
