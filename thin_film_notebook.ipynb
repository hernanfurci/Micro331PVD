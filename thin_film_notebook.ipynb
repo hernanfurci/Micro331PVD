{
 "cells": [
  {
   "cell_type": "markdown",
   "id": "423399d3-287b-4e09-84c9-4af0e19806af",
   "metadata": {},
   "source": [
    "#  **Thin Films Deposition** \n"
   ]
  },
  {
   "cell_type": "markdown",
   "id": "e6943c2d-5b54-4d6b-acb3-8d0e18cfc560",
   "metadata": {},
   "source": [
    "### __Before you start the notebook please run the import section bellow.__"
   ]
  },
  {
   "cell_type": "code",
   "execution_count": null,
   "id": "feb58fe1-1bea-4c69-83fb-1866bfa90099",
   "metadata": {
    "tags": []
   },
   "outputs": [],
   "source": [
    "import numpy as np\n",
    "import pandas as pd\n",
    "from IPython.display import display, HTML\n",
    "from base64 import b64encode\n",
    "import matplotlib.pyplot as plt\n",
    "from ipywidgets import interact, Dropdown, Output, Label\n",
    "import plotly.subplots as sp\n",
    "import plotly.graph_objs as go\n",
    "import plotly.graph_objects as go\n",
    "\n",
    "HTML(\"\"\"\n",
    "<script>\n",
    "    // Function to suppress JavaScript error messages\n",
    "    function suppress_js_errors() {\n",
    "        window.onerror = function(message, source, lineno, colno, error) {\n",
    "            return true;\n",
    "        };\n",
    "    }\n",
    "    // Call the function to suppress JavaScript error messages\n",
    "    suppress_js_errors();\n",
    "</script>\n",
    "\"\"\")"
   ]
  },
  {
   "cell_type": "markdown",
   "id": "6e705e3e-ffd7-4880-95f5-f3647a1ac8b1",
   "metadata": {},
   "source": [
    "# *Theory of thin film deposition*\n",
    "\n",
    "A **thin film** is a layer of material whose thickness spans from fractions of a nanometer to several micrometers. Being a pivotal step in microfabrication processes, thin film deposition enables the assembly of the various materials that constitute the device. Nevertheless, thin film deposition mainly focuses on the application of materials, necessitating the use of other techniques (e.g., etching, lift-off) to sculpt the layer into its desired form.\n",
    "\n",
    "Although multiple techniques can deposit identical materials, each is accompanied by its unique constraints, resulting in layers with distinct properties.\n",
    "\n",
    "## Physical Vapor Deposition (PVD)\n",
    "\n",
    "**PVD** comprises a spectrum of vacuum deposition techniques that are employed to produce thin films and coatings on a diverse range of substrates, including metals, ceramics, glass, and polymers. PVD is characterized by a process in which a material undergoes a phase transition: from a condensed phase to a vapor phase, and then back to a thin film condensed phase.\n",
    "\n",
    "### E-Beam Evaporation\n",
    "\n",
    "**E-Beam Evaporation** is a method that involves the evaporation of a material (be it grains, pieces, or tablets) situated in a crucible heated by a highly energetic electron beam. The wafers are placed on a dome at the top of the machine, with the face to receive the material facing down. The crucible is positionned at the bottom along with its heating system and the shutter. During the whole process the chamber is closed and pumped at very low pressures to allow the evaporated particles to travel freely through space, with low collision probability, and to ensure the purity of the deposition.\n",
    "<br>\n",
    "The substrate (wafer) is spaced at distance ranging from 10 centimeters to more than a meter depending on the application. This allows for very good film uniformities.\n",
    "Quartz resonators trategically placed inside the chamber allow to measure the deposited thickness, with precision in the order of the tenth of angstrom. \n",
    "\n",
    "<img src=\"evaporation schematic.PNG\">\n",
    "\n",
    "__Here is the inside of an evaporation machine when opened__ \n",
    "\n",
    "`Run the next cell to see the video about evaporation`"
   ]
  },
  {
   "cell_type": "code",
   "execution_count": null,
   "id": "84f85a6a-9e46-4955-8d02-4f338a92c1fd",
   "metadata": {
    "tags": []
   },
   "outputs": [],
   "source": [
    "mp4 = open('evaporation_clip.mp4','rb').read()\n",
    "data_url = \"data:video/mp4;base64,\" + b64encode(mp4).decode()\n",
    "HTML(\"\"\"\n",
    "<video width=1000 controls>\n",
    "      <source src=\"%s\" type=\"video/mp4\">\n",
    "</video>\n",
    "\"\"\" % data_url)"
   ]
  },
  {
   "cell_type": "markdown",
   "id": "7af083d3-5bb7-4cb6-8d08-cdd985c7bc20",
   "metadata": {},
   "source": [
    "_Clip description:_ This clip shows an evaporation machine mainly used in the context of lift-off processes with its large crucible to wafer distance. From 0 to 5 seconds: the outside of the chamber which constitutes the vaccum chamber. From 5 to 11 seconds: the wafer holders at the top of the machine. From 12 seconds til the end: the materials (the crucibles) which are installed at the bottom next to an electron beam gun, multiple materials are installed to allow for multi-layer deposition without having to pump back the chamber.\n",
    "\n",
    "### Sputtering\n",
    "\n",
    "**Sputtering** is a process initiated by a plasma; the ions generated are accelerated towards the target's surface (a block of material intended for deposition onto your substrate). Some atoms are ejected from the surface due to ion bombardment, and these sputtered atoms redeposit onto the sample surfaces to form a thin film. The three primary types of sputtering are DC Sputtering, RF Sputtering, and Magnetron Sputtering, each differing by the material that can be sputtered and the effects on the machine's wear.\n",
    "<br>\n",
    "The substrate is often placed at ranges from 2 to 15 centimeters from the target.\n",
    "<br>\n",
    "As there is a plasma inside the chamber there aren't any suitable sensors which can be used. The deposition rate is assumed constant for a given set of parameters, so the thickness is defined by the process duration.\n",
    "\n",
    "![Image of a target](sputtering_target.png)\n",
    "<br>\n",
    "__Here are images of sputtering targets__\n",
    "\n",
    "`Run the next cell to see the video about sputtering`\n"
   ]
  },
  {
   "cell_type": "code",
   "execution_count": null,
   "id": "e33c8516-c7a1-471c-a7d3-2cfd4e05d371",
   "metadata": {
    "tags": []
   },
   "outputs": [],
   "source": [
    "mp4 = open('sputtering_clip.mp4','rb').read()\n",
    "data_url = \"data:video/mp4;base64,\" + b64encode(mp4).decode()\n",
    "HTML(\"\"\"\n",
    "<video width=1000 controls>\n",
    "      <source src=\"%s\" type=\"video/mp4\">\n",
    "</video>\n",
    "\"\"\" % data_url)"
   ]
  },
  {
   "cell_type": "markdown",
   "id": "e5a70e07",
   "metadata": {},
   "source": [
    "_Clip description:_ This clip shows two different sputtering machines. The first one where you only see the back of it with four process chambers and a loading chamber at the center. The other one with a load lock and a process chamber. Inside both machines, targets are placed upside down and the system to generate the plasma are located around it. You can also note the relative short distance between the target and the wafer."
   ]
  },
  {
   "cell_type": "markdown",
   "id": "c587c397-031e-40b5-8eb8-4b9018fb52c0",
   "metadata": {},
   "source": [
    "## Comparison of PVD techniques\n",
    "\n",
    "The following table from the [PVD course](./MICRO-331_Week3_PVD.pdf)\n",
    " provides a good comparison of the diffrent PVD techniques. Keep in mind that IAD, MBE and PLD aren't explained here as they are less common techniques which are used in specific processes."
   ]
  },
  {
   "cell_type": "markdown",
   "id": "6681a96f-23bb-46d8-8f0c-2bb404d73570",
   "metadata": {},
   "source": [
    "<img src=\"pvd_comparison.jpg\" width=\"70%\" height=\"400\">"
   ]
  },
  {
   "cell_type": "markdown",
   "id": "e3e5f2a9-78e4-4c5c-9f42-ce1a37c27894",
   "metadata": {},
   "source": [
    "# *Exercice Section*\n",
    "* # Film selection\n",
    "\n",
    "_Your first task is to investigate material properties to inform choices for materials_\n",
    "\n",
    "You have access to some information about materials which can be deposited with PVD. With the first table, find the material you want to use for your active layer. \n",
    "<br>\n",
    "Based on its proprieties then you can select an adhesion layer using the second table. It can be crucial as many material have a very poor adhesion on Silicon or Silica.\n"
   ]
  },
  {
   "cell_type": "markdown",
   "id": "3c954b76",
   "metadata": {},
   "source": [
    "**Part 1:** `Using the definition of resistivity and parallel resistances, find a formula for the required thickness of the conductive material layer t_c using a 10 nm thickness for the adhesion layer, if needed.`"
   ]
  },
  {
   "cell_type": "markdown",
   "id": "28fb658d",
   "metadata": {},
   "source": [
    "**Hint** `You will get the full table as output during Part 2`"
   ]
  },
  {
   "cell_type": "code",
   "execution_count": 8,
   "id": "87c53d1f",
   "metadata": {},
   "outputs": [],
   "source": [
    "def compute_thickness_with_adhesion(required_resistance, resistivity_c, resistivity_adh, thickness_adh):\n",
    "    thickness_conductor = 0     #Fill here\n",
    "    return thickness_conductor\n",
    "\n",
    "def compute_thickness_no_adhesion(required_resistance, resistivity_c):\n",
    "    thickness_conductor = 0     #Fill here\n",
    "    return thickness_conductor"
   ]
  },
  {
   "cell_type": "markdown",
   "id": "016fe07d",
   "metadata": {},
   "source": [
    "**Part 2:** `Fill in this table with the Deposition Rates found on the CMi webpages for the` [LAB600](https://www.epfl.ch/research/facilities/cmi/equipment/thin-films/leybold-optics-lab-600h/) `and the` [DP650](https://www.epfl.ch/research/facilities/cmi/equipment/thin-films/alliance-concept-dp-650/)."
   ]
  },
  {
   "cell_type": "code",
   "execution_count": 9,
   "id": "74ca6c38",
   "metadata": {},
   "outputs": [],
   "source": [
    "#Fill here the evaporation deposition rates for the materials\n",
    "Au_deposition_rate = 0\n",
    "Cu_deposition_rate = 0\n",
    "Al_deposition_rate = 0\n",
    "\n",
    "deposition_rates_evap = [Au_deposition_rate, Cu_deposition_rate, Al_deposition_rate]\n",
    "\n",
    "#Fill here the sputtering deposition rates\n",
    "Au_deposition_rate = 0\n",
    "Cu_deposition_rate = 0\n",
    "Al_deposition_rate = 0\n",
    "\n",
    "deposition_rates_sput = [Au_deposition_rate, Cu_deposition_rate, Al_deposition_rate]"
   ]
  },
  {
   "cell_type": "code",
   "execution_count": 16,
   "id": "cb4e9d46-5df4-41b3-b70f-cfe925fe77c8",
   "metadata": {
    "tags": []
   },
   "outputs": [
    {
     "data": {
      "text/html": [
       "<div>\n",
       "<style scoped>\n",
       "    .dataframe tbody tr th:only-of-type {\n",
       "        vertical-align: middle;\n",
       "    }\n",
       "\n",
       "    .dataframe tbody tr th {\n",
       "        vertical-align: top;\n",
       "    }\n",
       "\n",
       "    .dataframe thead th {\n",
       "        text-align: right;\n",
       "    }\n",
       "</style>\n",
       "<table border=\"1\" class=\"dataframe\">\n",
       "  <thead>\n",
       "    <tr style=\"text-align: right;\">\n",
       "      <th></th>\n",
       "      <th>Material</th>\n",
       "      <th>Electrical Resistivity (ohm*m)</th>\n",
       "      <th>Price (CHF/g)</th>\n",
       "      <th>Deposition Rates - Evaporation (nm/min)</th>\n",
       "      <th>Deposition Rates - Sputtering (nm/min)</th>\n",
       "      <th>Adhesion Layer Required</th>\n",
       "    </tr>\n",
       "  </thead>\n",
       "  <tbody>\n",
       "    <tr>\n",
       "      <th>0</th>\n",
       "      <td>Au</td>\n",
       "      <td>2.21e-08</td>\n",
       "      <td>60.00</td>\n",
       "      <td>0</td>\n",
       "      <td>0</td>\n",
       "      <td>Yes</td>\n",
       "    </tr>\n",
       "    <tr>\n",
       "      <th>1</th>\n",
       "      <td>Cu</td>\n",
       "      <td>1.68e-08</td>\n",
       "      <td>0.05</td>\n",
       "      <td>0</td>\n",
       "      <td>0</td>\n",
       "      <td>No</td>\n",
       "    </tr>\n",
       "    <tr>\n",
       "      <th>2</th>\n",
       "      <td>Al</td>\n",
       "      <td>2.65e-08</td>\n",
       "      <td>0.03</td>\n",
       "      <td>0</td>\n",
       "      <td>0</td>\n",
       "      <td>Yes</td>\n",
       "    </tr>\n",
       "  </tbody>\n",
       "</table>\n",
       "</div>"
      ],
      "text/plain": [
       "  Material  Electrical Resistivity (ohm*m)  Price (CHF/g)  \\\n",
       "0       Au                        2.21e-08          60.00   \n",
       "1       Cu                        1.68e-08           0.05   \n",
       "2       Al                        2.65e-08           0.03   \n",
       "\n",
       "   Deposition Rates - Evaporation (nm/min)  \\\n",
       "0                                        0   \n",
       "1                                        0   \n",
       "2                                        0   \n",
       "\n",
       "   Deposition Rates - Sputtering (nm/min) Adhesion Layer Required  \n",
       "0                                       0                     Yes  \n",
       "1                                       0                      No  \n",
       "2                                       0                     Yes  "
      ]
     },
     "metadata": {},
     "output_type": "display_data"
    }
   ],
   "source": [
    "# Define the data for the table\n",
    "data = {\n",
    "    'Material': ['Au', 'Cu', 'Al'],\n",
    "    'Electrical Resistivity (ohm*m)': [2.21e-8, 1.68e-8, 2.65e-8] ,\n",
    "    'Price (CHF/g)': [60, 0.05, 0.03],\n",
    "    'Deposition Rates - Evaporation (nm/min)' : deposition_rates_evap,\n",
    "    'Deposition Rates - Sputtering (nm/min)' : deposition_rates_sput,\n",
    "    'Adhesion Layer Required': ['Yes', 'No', 'Yes']\n",
    "}\n",
    "\n",
    "# Create a DataFrame\n",
    "materials_df = pd.DataFrame(data)\n",
    "\n",
    "#show the data\n",
    "with pd.option_context('display.precision', 2):\n",
    "    display(materials_df)"
   ]
  },
  {
   "cell_type": "markdown",
   "id": "3e6a1199",
   "metadata": {},
   "source": [
    "`It is important to understand that the bulk resistivity varies in microfabrication. Indeed, the material isn't perfect and growths in many different ways. Also it is ordered in a certain manner depending on the process used to deposit it. Thus it is important to keep in mind that the value of the resistivity will change depending on the type of process, the purity of the target and the chamber, parameters of the process and the nature of the substrate. The values provided here were measured directly at the CMi but for thin films issuing from sputtering. You can already see the difference with the theory.`"
   ]
  },
  {
   "cell_type": "code",
   "execution_count": 11,
   "id": "d4dc13c7-fcef-476b-baab-dd8a44f4d154",
   "metadata": {
    "tags": []
   },
   "outputs": [],
   "source": [
    "#Fill here the evaporation deposition rates for the materials\n",
    "Ti_deposition_rate = 0\n",
    "Cr_deposition_rate = 0\n",
    "\n",
    "adhesion_deposition_rates_evap = [Ti_deposition_rate, Cr_deposition_rate]\n",
    "\n",
    "#Fill here the sputtering deposition rates\n",
    "Ti_deposition_rate = 0\n",
    "Cr_deposition_rate = 0\n",
    "\n",
    "adhesion_deposition_rates_sput = [Ti_deposition_rate, Cr_deposition_rate]"
   ]
  },
  {
   "cell_type": "code",
   "execution_count": 15,
   "id": "51214629",
   "metadata": {},
   "outputs": [
    {
     "data": {
      "text/html": [
       "<div>\n",
       "<style scoped>\n",
       "    .dataframe tbody tr th:only-of-type {\n",
       "        vertical-align: middle;\n",
       "    }\n",
       "\n",
       "    .dataframe tbody tr th {\n",
       "        vertical-align: top;\n",
       "    }\n",
       "\n",
       "    .dataframe thead th {\n",
       "        text-align: right;\n",
       "    }\n",
       "</style>\n",
       "<table border=\"1\" class=\"dataframe\">\n",
       "  <thead>\n",
       "    <tr style=\"text-align: right;\">\n",
       "      <th></th>\n",
       "      <th>Adhesion Layer</th>\n",
       "      <th>Electrical Resistivity (ohm*m)</th>\n",
       "      <th>Price (USD/g)</th>\n",
       "      <th>Deposition Rate Range - Evaporation (nm/min)</th>\n",
       "      <th>Deposition Rate Range - Sputtering (nm/min)</th>\n",
       "      <th>Commonly Used With</th>\n",
       "    </tr>\n",
       "  </thead>\n",
       "  <tbody>\n",
       "    <tr>\n",
       "      <th>0</th>\n",
       "      <td>Ti</td>\n",
       "      <td>4.20e-07</td>\n",
       "      <td>0.50</td>\n",
       "      <td>0</td>\n",
       "      <td>0</td>\n",
       "      <td>Au, Pt, Al</td>\n",
       "    </tr>\n",
       "    <tr>\n",
       "      <th>1</th>\n",
       "      <td>Cr</td>\n",
       "      <td>1.25e-07</td>\n",
       "      <td>0.02</td>\n",
       "      <td>0</td>\n",
       "      <td>0</td>\n",
       "      <td>Au, Al</td>\n",
       "    </tr>\n",
       "  </tbody>\n",
       "</table>\n",
       "</div>"
      ],
      "text/plain": [
       "  Adhesion Layer  Electrical Resistivity (ohm*m)  Price (USD/g)  \\\n",
       "0             Ti                        4.20e-07           0.50   \n",
       "1             Cr                        1.25e-07           0.02   \n",
       "\n",
       "   Deposition Rate Range - Evaporation (nm/min)  \\\n",
       "0                                             0   \n",
       "1                                             0   \n",
       "\n",
       "   Deposition Rate Range - Sputtering (nm/min) Commonly Used With  \n",
       "0                                            0         Au, Pt, Al  \n",
       "1                                            0             Au, Al  "
      ]
     },
     "metadata": {},
     "output_type": "display_data"
    }
   ],
   "source": [
    "\n",
    "# Define the data for the adhesion layers table\n",
    "adhesion_data = {\n",
    "    'Adhesion Layer': ['Ti', 'Cr'],\n",
    "    'Electrical Resistivity (ohm*m)': [4.2e-7, 1.25e-7],\n",
    "    'Price (USD/g)': [0.5, 0.02],\n",
    "    'Deposition Rate Range - Evaporation (nm/min)': adhesion_deposition_rates_evap,\n",
    "    'Deposition Rate Range - Sputtering (nm/min)': adhesion_deposition_rates_sput,\n",
    "    'Commonly Used With': ['Au, Pt, Al', 'Au, Al'],\n",
    "}\n",
    "\n",
    "# Create a DataFrame\n",
    "adhesion_layers_df = pd.DataFrame(adhesion_data)\n",
    "\n",
    "with pd.option_context('display.precision', 2):\n",
    "    display(adhesion_layers_df)"
   ]
  },
  {
   "cell_type": "markdown",
   "id": "e7b8a374",
   "metadata": {},
   "source": [
    "### Output of Part 1:\n",
    "`Run this cell to use the functions you defined above and get the table`"
   ]
  },
  {
   "cell_type": "code",
   "execution_count": 17,
   "id": "0c6636e5",
   "metadata": {},
   "outputs": [
    {
     "data": {
      "text/html": [
       "<div>\n",
       "<style scoped>\n",
       "    .dataframe tbody tr th:only-of-type {\n",
       "        vertical-align: middle;\n",
       "    }\n",
       "\n",
       "    .dataframe tbody tr th {\n",
       "        vertical-align: top;\n",
       "    }\n",
       "\n",
       "    .dataframe thead th {\n",
       "        text-align: right;\n",
       "    }\n",
       "</style>\n",
       "<table border=\"1\" class=\"dataframe\">\n",
       "  <thead>\n",
       "    <tr style=\"text-align: right;\">\n",
       "      <th></th>\n",
       "      <th>Conductor = Au</th>\n",
       "      <th>Cu</th>\n",
       "      <th>Al</th>\n",
       "    </tr>\n",
       "  </thead>\n",
       "  <tbody>\n",
       "    <tr>\n",
       "      <th>Adhesion = Ti</th>\n",
       "      <td>0.0</td>\n",
       "      <td>0.0</td>\n",
       "      <td>0.0</td>\n",
       "    </tr>\n",
       "    <tr>\n",
       "      <th>Cr</th>\n",
       "      <td>0.0</td>\n",
       "      <td>0.0</td>\n",
       "      <td>0.0</td>\n",
       "    </tr>\n",
       "  </tbody>\n",
       "</table>\n",
       "</div>"
      ],
      "text/plain": [
       "               Conductor = Au   Cu   Al\n",
       "Adhesion = Ti             0.0  0.0  0.0\n",
       "Cr                        0.0  0.0  0.0"
      ]
     },
     "metadata": {},
     "output_type": "display_data"
    }
   ],
   "source": [
    "#Indices: 0. Ti, 1. Cr for the adhesion layer\n",
    "#Indices: 0. Au, 1. Cu, 2. Al for the conductive layer\n",
    "\n",
    "required_resistance = 2.5\n",
    "thickness_adh = 10e-9       #in m\n",
    "required_thicknesses = np.zeros([2, 3])\n",
    "for i in range(2):              #iterate over all conductors\n",
    "    resistivity_adh = adhesion_layers_df['Electrical Resistivity (ohm*m)'][i]   #Read the resistivity values for the conductor\n",
    "    for j in range(3):          #iterate over all resistors\n",
    "        resistivity_c = materials_df['Electrical Resistivity (ohm*m)'][j]\n",
    "        if(j == 1): #Case of Cu\n",
    "            tc = compute_thickness_no_adhesion(required_resistance, resistivity_c)*10e9 #Value in nm\n",
    "        else:\n",
    "            tc = compute_thickness_with_adhesion(required_resistance, resistivity_c, resistivity_adh, thickness_adh)*10e9\n",
    "        required_thicknesses[i, j] = tc\n",
    "required_thicknesses_df = pd.DataFrame(data = required_thicknesses, index = ['Adhesion = Ti', 'Cr'], columns = [\"Conductor = Au\", 'Cu', 'Al'])\n",
    "\n",
    "with pd.option_context('display.precision', 2):\n",
    "    display(required_thicknesses_df)"
   ]
  },
  {
   "cell_type": "markdown",
   "id": "fc1f930b-1de7-4c06-beb7-354569034351",
   "metadata": {},
   "source": [
    "* # Evaporation"
   ]
  },
  {
   "cell_type": "markdown",
   "id": "6a7256a3-a1cd-4585-9ff9-d88661f4af66",
   "metadata": {},
   "source": [
    "In the following section you will explore the different parameters of evaporation, and will evaluate the effects of different parameters on uniformity. \n",
    "\n",
    "<br>\n",
    "Here are the following parameters you have access to:\n",
    "<br>\n",
    "\n",
    "* __Distance__ : it is the distance between the crucible and the wafer. It is the most significant parameter (when you have the right pressure and a stable evaporation) in an evaporation process. \n",
    "<br>\n",
    "\n",
    "* __Wafer size__: 5, 10, 15 or 20 cm of diameters. Larger wafers allow for better scalability of the process but lead to less uniform processes (also the case for other steps than thin film deposition). Smaller wafer are mainly used for research where even chips of 10 by 10 mm squares are used. Allowing for a reduced price while ensuring uniform processes.\n",
    "<br>\n",
    "\n",
    "_Keep in mind this is a highly simplified model. Key parameters such as stresses and thermal effect are neglected here._\n",
    "<br>\n",
    "\n",
    "The following code allows you to simulate the profile of the evaporated surface. It is mainly here to help you understand the influence of distance and wafer size. On the left you have a 3d surface of the wafer and on the right a 2d surface where you can access the exact thickness deposited as a function of the distance of the points from the center of the wafer. For both plots, mind the scale. The aspect ratio can be activated and deactivated for the left figure, allowing you to go from a \"real\" scale to an exaggerated scale that makes deformities more prominent (mind the first and last value plotted).\n",
    "\n",
    "__The plot takes a few seconds to update when you change the parameters__"
   ]
  },
  {
   "cell_type": "markdown",
   "id": "594a22e3",
   "metadata": {},
   "source": [
    "**Part 3:**\n",
    "`Look through these functions and understand what they compute. What does the 'points_outside' variable do?`"
   ]
  },
  {
   "cell_type": "code",
   "execution_count": null,
   "id": "e4d7e0b0-b0a7-4bb0-8372-1e975e942f84",
   "metadata": {
    "tags": []
   },
   "outputs": [],
   "source": [
    "%matplotlib widget\n",
    "output_widget = Output(layout={'width': '100%', 'height': '100%'})\n",
    "\n",
    "def calculate_thickness(X, Y, distance):\n",
    "    R = np.sqrt(X**2 + Y**2 + distance** 2)\n",
    "    cos_theta = distance/R\n",
    "    thickness = cos_theta*distance**2/R**2    \n",
    "    return thickness*100\n",
    "\n",
    "\n",
    "# Precompute 3D shapes\n",
    "def precompute_shapes():\n",
    "    shapes = {}\n",
    "    wafer_sizes = [5, 10, 15, 20]\n",
    "    distance_values = [20, 40, 60, 80, 100]\n",
    "\n",
    "    for distance in distance_values:\n",
    "        for wafer_size in wafer_sizes:\n",
    "            x = np.linspace(-wafer_size/2, wafer_size/2, 50)\n",
    "            y = np.linspace(-wafer_size/2, wafer_size/2, 50)\n",
    "            X, Y = np.meshgrid(x, y)\n",
    "            thickness = calculate_thickness(X, Y, distance)\n",
    "            # Circular mask for the wafer\n",
    "            points_outside = np.sqrt(X** 2 + Y** 2) > wafer_size / 2\n",
    "            thickness[points_outside] = np.nan    #Removes all values outside of the wafer from the plot\n",
    "            shapes[distance, wafer_size] = np.array([X, Y, thickness])\n",
    "\n",
    "    return shapes\n",
    "\n",
    "precomputed_shapes = precompute_shapes()\n",
    "\n"
   ]
  },
  {
   "cell_type": "code",
   "execution_count": null,
   "id": "d48519b2",
   "metadata": {},
   "outputs": [],
   "source": [
    "def update_square_color(trace, points, selector):\n",
    "    clicked_square_index = points.point_inds[0]\n",
    "    current_color = trace.marker.color[clicked_square_index]\n",
    "    new_color = 'red' if current_color != 'red' else 'green'\n",
    "    trace.marker.color[clicked_square_index] = new_color\n",
    "    trace.marker.colorbar.update()\n",
    "    trace.update()\n",
    "    \n",
    "\n",
    "@output_widget.capture(clear_output=True)\n",
    "def plot_thickness(distance, wafer_size, aspect_ratio):\n",
    "    X, Y, thickness = precomputed_shapes[distance, wafer_size]\n",
    "\n",
    "    fig = sp.make_subplots(rows=1, cols=2, specs=[[{'type': 'surface'}, {'type': 'xy'}]])\n",
    "\n",
    "    # Add colorbar_title to go.Surface trace\n",
    "    fig.add_trace(go.Surface(z=thickness, x=X, y=Y, colorscale='Viridis', showscale=False, \n",
    "                             colorbar_title=\"(nm)\"), row=1, col=1)\n",
    "    hover_text = np.empty_like(thickness, dtype=object)\n",
    "    for i in range(thickness.shape[0]):\n",
    "        for j in range(thickness.shape[1]):\n",
    "            R = np.sqrt((X[i, j]) ** 2 + (Y[i, j]) ** 2)\n",
    "            hover_text[i, j] = f\"distance from the center of the wafer: {R:.2f} cm<br>layer thickness: {thickness[i, j]:.2f} nm\"\n",
    "    heatmap = go.Heatmap(z=thickness, x=X[0], y=Y[:, 0],text=hover_text, showscale=False, hoverinfo='text',colorscale='Viridis')\n",
    "    fig.add_trace(heatmap, row=1, col=2)\n",
    "    fig.update_xaxes(visible=False, showticklabels=False, row=1, col=2)\n",
    "    fig.update_yaxes(visible=False, showticklabels=False, row=1, col=2)\n",
    "\n",
    "\n",
    "    fig.update_layout(title=f'Thin Film Thickness Uniformity for 100nm evaporation at the center point <br> for a wafer of {wafer_size} cm of diameter',\n",
    "                      height=600, margin=dict(l=10, r=10, t=80, b=10))\n",
    "    z_min = 0\n",
    "    z_min = {5: 97, 10: 95}.get(wafer_size, 85 if distance < 50 else 95)\n",
    "    if aspect_ratio == 'no':\n",
    "        z_min = 0\n",
    "    fig.update_layout(scene=dict(zaxis=dict(range=[z_min, 100])))\n",
    "\n",
    "    # Add click event handler to the heatmap\n",
    "    fig.data[1].on_click(update_square_color)\n",
    "    fig.show()\n",
    "\n",
    "style = {'description_width': 'initial'} \n",
    "    \n",
    "display(output_widget)\n",
    "\n",
    "distance_widget = Dropdown(options = [20, 40, 60, 80, 100], value=60 , description='Distance (cm)', style=style)\n",
    "wafer_size_widget = Dropdown(options=[5, 10, 15, 20], value=5, description='Wafer diameter (cm)', style=style)\n",
    "aspect_ratio_widget = Dropdown(options=['yes','no'], value='yes', description='Exaggerate contrast',style=style)\n",
    "\n",
    "interact(plot_thickness, distance=distance_widget, wafer_size=wafer_size_widget,aspect_ratio=aspect_ratio_widget)\n"
   ]
  },
  {
   "cell_type": "markdown",
   "id": "e755bc8f",
   "metadata": {},
   "source": [
    "`Fill the missing parts (marked with TODO) in order to get the average, edge, minimum and maximum values, as well as the uniformity`"
   ]
  },
  {
   "cell_type": "code",
   "execution_count": null,
   "id": "66f05d13",
   "metadata": {},
   "outputs": [],
   "source": [
    "\n",
    "#TODO: fill these functions, get inspired by the pre-filled find_max\n",
    "\n",
    "def find_max(distance, wafer_size):\n",
    "    X, Y, thickness = precomputed_shapes[distance, wafer_size]      #extract variables\n",
    "    points_outside = np.sqrt(X** 2 + Y** 2) > wafer_size / 2        #find points inside and outside\n",
    "    selected_thickness_points = 0                          #Without adding a line, how can I choose the points inside the wafer from the thickness matrix?\n",
    "                                        #Fill this to find the max value\n",
    "    max_value = selected_thickness_points #.something() \n",
    "    return max_value\n",
    "\n",
    "# Get inspired by the variable 'shapes' to read the precomputed_shapes values, what is the type of \"thickness\", and how does the plotting function read it? \n",
    "def calculate_mean(distance, wafer_size):\n",
    "    mean = 0\n",
    "    return mean\n",
    "\n",
    "\n",
    "def find_min(distance, wafer_size):\n",
    "    min_value = 0\n",
    "    return min_value\n",
    "\n",
    "def compute_uniformity(distance, wafer_size):\n",
    "    uniformity = 0\n",
    "    return uniformity\n"
   ]
  },
  {
   "cell_type": "markdown",
   "id": "172647be",
   "metadata": {},
   "source": [
    "`Run this cell after filling the functions above in order to get the necessary outputs`"
   ]
  },
  {
   "cell_type": "code",
   "execution_count": null,
   "id": "2584ce98",
   "metadata": {},
   "outputs": [],
   "source": [
    "#Initialize data\n",
    "\n",
    "uniformity = np.zeros([5, 4])\n",
    "mean_values = np.zeros([5, 4])\n",
    "distances = [20, 40, 60, 80, 100]\n",
    "wafer_sizes = [5, 10, 15, 20]\n",
    "\n",
    "#Compute all the means and uniformity scores\n",
    "\n",
    "for i in range(len(distances)):\n",
    "    for j in range(len(wafer_sizes)):\n",
    "        mean_values[i, j] = calculate_mean(distances[i], wafer_sizes[j])\n",
    "        uniformity[i, j] = compute_uniformity(distances[i], wafer_sizes[j])\n",
    "\n",
    "find_max(20, 5)\n",
    "print('The mean values are:')\n",
    "# Create a DataFrame\n",
    "\n",
    "mean_df = pd.DataFrame(mean_values, columns= ['Wafer size = 5', 10, 15, 20], index =['Distance =20', 40, 60, 80, 100])\n",
    "\n",
    "with pd.option_context('display.precision', 2):\n",
    "    display(mean_df)\n",
    "\n",
    "print('The unifomrity scores are:')\n",
    "# Create a DataFrame\n",
    "\n",
    "uniformity_df = pd.DataFrame(uniformity, columns=['Wafer size = 5', 10, 15, 20], index =['Distance =20', 40, 60, 80, 100])\n",
    "\n",
    "with pd.option_context('display.precision', 2):\n",
    "    display(uniformity_df)\n",
    "\n",
    "\n"
   ]
  },
  {
   "cell_type": "markdown",
   "id": "ecc46ee2-5d01-4523-8d38-abb6185b8a1d",
   "metadata": {},
   "source": [
    "`For a small wafer size, distance's effect is very small until you get very close to the source. However, larger wafers get bad results at small distances. This is important, as large distances correlates with pumping time, as shown in the next part `"
   ]
  },
  {
   "cell_type": "markdown",
   "id": "36a056ab",
   "metadata": {},
   "source": [
    "* # Pumping step"
   ]
  },
  {
   "cell_type": "markdown",
   "id": "8d548773",
   "metadata": {},
   "source": [
    "Pumping vacuum in the chamber is key many PVD methods. The processes need to happen at very low pressure both for the process to be stable and also for guaranteeing the purity of the final film.\n",
    "<br>\n",
    "In many machines there exists some load lock mechanism where the machine is split between multiple chambers with the usual configuration being: load lock <-> transfer module <-> process chamber.\n",
    "\n",
    "The load lock is a small chamber which only serves as loading and unloading the chamber for the wafers. With its small volume it is very fast to pump.\n",
    "\n",
    "The transfer module hosts a robotic arm which transfers the wafer into the chamber. \n",
    "\n",
    "The process chamber hosts the process. It contains the material which will be deposited and the wafer during the process. It is only vented when the materials are changed.\n",
    "\n",
    "Usually there are multiple process chambers they can also be used for other processes than thin film deposition (dry etching, plasma cleaning...).\n",
    "\n",
    "<br>\n",
    "However, in many cases the machine is made of a single chamber. In this case the pumping step can be very limiting as it often represents a significant fraction of the total process time. This is typically the case of most evaporators. \n",
    "\n",
    "<br>\n",
    "The key figure to describe the quality of a vacuum from the point of view of a PVD process is the mean free path of a material's particule in a given vacuum condition. A rule of thumb about the required mean free path states that the mean free path needs to be at least 100 order of magnitude larger than the travel path from the crucible to the wafer in evaporation.\n",
    "\n",
    "Thus the larger the chamber, the larger the mean free path required.\n",
    "\n",
    "<br>\n",
    "The pumping time required is a function of the target pressure (directly related to the required mean free path). It turns out that the pumping time explodes as you reach very low pressures. Thus, a compromise has to be found between reasonable process time and the required pressure.\n",
    " "
   ]
  },
  {
   "cell_type": "markdown",
   "id": "4d548fd5",
   "metadata": {},
   "source": [
    "\n",
    "- **λ (l)**: mean free path in [m]\n",
    "- **R**: gas constant in [J/(mol·K)]\n",
    "- **T**: temperature in [K]\n",
    "- **M**: molar mass in [kg/mol]\n",
    "- **η (h)**: gas viscosity in [Pa·s]\n",
    "- **P**: reactor pressure in [Pa]\n",
    "\n",
    "The mean free path, λ (l), can be calculated with the following equation:\n",
    "\n",
    "## $ \\lambda = \\sqrt{\\frac{\\pi R T}{2 M}}\\frac{\\eta}{P} \\text{ in }   [m]$\n"
   ]
  },
  {
   "cell_type": "code",
   "execution_count": null,
   "id": "b08d1bcf",
   "metadata": {},
   "outputs": [],
   "source": [
    "# Constants\n",
    "R = 8.314    # ideal gas constant, J/(mol*K)\n",
    "T = 298.15   # absolute temperature, K\n",
    "M = 0.02897  # molar mass of air, kg/mol\n",
    "eta = 1.8e-5 # dynamic viscosity of air at room temperature, Pa*s\n",
    "pi = np.pi   # pi constant"
   ]
  },
  {
   "cell_type": "markdown",
   "id": "9d5cca6e",
   "metadata": {},
   "source": [
    "**Part 4:**\n",
    "`Look through the code below and fill in the gaps to compute the relevant values. Once done, simply run the last cell to generate the table. Feel free to run the plotting cell before filling everything in, as it illustrates the previous point.`"
   ]
  },
  {
   "cell_type": "code",
   "execution_count": null,
   "id": "13feda7b",
   "metadata": {},
   "outputs": [],
   "source": [
    "#To get a useful plot, fill the variables with the relations between them (or just the rules of thumb)\n",
    "#Be careful about units chosen, especially if your lines don't intersect!\n",
    "\n",
    "def calculate_mean_free_path():             #result in [m]\n",
    "    required_mean_free_path = 0             #add required parameters in your function calls!\n",
    "    return required_mean_free_path\n",
    "\n",
    "def calculate_target_pressure():    #result in mbar\n",
    "    target_pressure = 0             #add required parameters\n",
    "    return target_pressure\n",
    "\n",
    "def calculate_pumping_time():       #add required parameters\n",
    "    pumping_time = 0\n",
    "    return pumping_time\n",
    "\n",
    "distances = [20, 40, 60, 80, 100]  #what's the used unit?\n",
    "distance = distances[0]   #just choose a distance for plotting\n",
    "\n",
    "required_mean_free_path = calculate_mean_free_path()\n",
    "target_pressure = calculate_target_pressure()\n",
    "pumping_time = calculate_pumping_time()\n",
    "\n"
   ]
  },
  {
   "cell_type": "code",
   "execution_count": null,
   "id": "f0c26636",
   "metadata": {},
   "outputs": [],
   "source": [
    "%matplotlib widget\n",
    "# Pressure range in millibars, needed for graphing\n",
    "P_mbar = np.logspace(-9, -3, 1000) # from 1 atmosphere to 10 atmospheres\n",
    "P_pa = P_mbar * 100  # convert from mbar to Pa\n",
    "\n",
    "\n",
    "mean_free_path_plot = [required_mean_free_path]*1000    #make array of correct dimensions for plotting points\n",
    "target_pressure_plot = [target_pressure]*1000\n",
    "\n",
    "# Mean free path calculation to establish exact relation and plot it\n",
    "lambda_ = np.sqrt(pi * R * T / (2 * M)) * eta / P_pa \n",
    "\n",
    "\n",
    "# Plot\n",
    "plt.figure(figsize=(10, 6))\n",
    "plt.loglog(P_mbar, lambda_)     #Logarithmic law needs log axes\n",
    "plt.xlabel('Pressure (mbar)')\n",
    "plt.ylabel('Mean Free Path (m)')\n",
    "plt.title('Mean Free Path as a function of Pressure (Logarithmic Scale)')\n",
    "\n",
    "### Uncomment these lines to plot the Mean Free Path and Pressure chosen, once you've filled everything in\n",
    "#plt.plot(P_mbar,mean_free_path_plot)   \n",
    "#plt.plot(target_pressure_plot, lambda_)\n",
    "\n",
    "##Uncomment this line to get a legend for your graph\n",
    "#plt.legend(['Pressure-Mean-free-path relation', 'Target mean-free-path [m]', 'Target pressure [mbar]'])\n",
    "\n",
    "plt.grid(True)\n",
    "plt.show()"
   ]
  },
  {
   "cell_type": "code",
   "execution_count": null,
   "id": "932163eb",
   "metadata": {},
   "outputs": [],
   "source": [
    "distances = np.array(distances)\n",
    "pumping_times = np.zeros_like(distances)\n",
    "pumping_times_mins = np.zeros_like(distances)\n",
    "for i in range(len(distances)):         #TODO change here to get relevant parameter to compute pumping time, and use the correct parameters in function calls\n",
    "    pumping_times[i] = calculate_pumping_time()\n",
    "    pumping_times_mins[i] = pumping_times[i]//60\n",
    "\n",
    "pumping_data = {\n",
    "    'Distances (cm)': distances,\n",
    "    'Pumping times (s)': pumping_times,\n",
    "    'Pumping times (min)': pumping_times_mins,\n",
    "}\n",
    "\n",
    "# Create a DataFrame\n",
    "pumping_data_df = pd.DataFrame(pumping_data)\n",
    "display(pumping_data_df)"
   ]
  },
  {
   "cell_type": "markdown",
   "id": "4b7bd36f-2dd4-44c5-99f5-7caf74120a19",
   "metadata": {},
   "source": [
    "* # Evaporation on a sloped profile\n",
    "__This last section illustrates the effect of structures in an evaporation. In the last situation the profile of the wafer was assumed to be flat or with planar structures which is often the case in micro electronics.__\n",
    "<br>\n",
    "\n",
    "In many advanced micro-engineering cases you will have sloped structures. As you are interested in the normal thickness of deposition which defines most of the proprieties of the layer, this next module focuses on the impact of a slope on the evaporation. On another level it shows the crucial role of having a good structure shape when you perform lift off as any slope would result in material deposition which would block the lift off process.\n"
   ]
  },
  {
   "cell_type": "code",
   "execution_count": null,
   "id": "967df969-554e-47ee-9a05-ac67df0dea17",
   "metadata": {},
   "outputs": [],
   "source": [
    "def update_thickness_display(alpha, initial_thickness=100):\n",
    "    t1 = initial_thickness\n",
    "    t2 = slope_thickness(t1,alpha)\n",
    "    thickness_display.value = f'Thickness on flat surfaces: {t1:.2f} nm and the thickness on slopes: {t2:.2f} nm'\n",
    "\n",
    "\n",
    "def slope_thickness(t1,alpha):      \n",
    "    t2 = 0\n",
    "    alpha_rad = np.radians(alpha)\n",
    "    t2 = np.cos(alpha_rad) * t1\n",
    "    \n",
    "    return t2\n",
    "\n",
    "#This function is a piece-wise definition of the slope, with 5 intervals (flat surface, slope up, flat top, slope down, flat again)\n",
    "def create_cross_section(alpha):\n",
    "    alpha = np.radians(alpha)\n",
    "    step = 0.2                      #define the thickness\n",
    "    x1 = np.linspace(0, 1, 50)      #x is a simple linspace\n",
    "    y1 = np.zeros_like(x1) + step   #y is just a flat value\n",
    "\n",
    "    x2 = np.linspace(1, 1 + np.cos(alpha), 50)      \n",
    "    y2 = np.linspace(0, np.sin(alpha), 50) + step\n",
    "\n",
    "    x3 = np.linspace(1 + np.cos(alpha), 1 + np.sin(alpha) + np.cos(alpha), 50)\n",
    "    y3 = np.ones_like(x3) *  np.sin(alpha) + step\n",
    "\n",
    "    x4 = np.linspace(1 + np.sin(alpha) + np.cos(alpha), 1 + np.cos(alpha) + np.cos(alpha) + np.sin(alpha), 50)\n",
    "    y4 = np.linspace( np.sin(alpha), 0, 50) + step\n",
    "\n",
    "    x5 = np.linspace(2 + 2 * np.cos(alpha), 3 + 2 * np.cos(alpha), 50)\n",
    "    y5 = np.zeros_like(x5) + step\n",
    "\n",
    "    x = np.concatenate((x1, x2, x3, x4, x5))\n",
    "    y = np.concatenate((y1, y2, y3, y4, y5))\n",
    "\n",
    "    return x, y, y + step\n",
    "\n",
    "def plot_cross_section(alpha):\n",
    "    x, y, y_plus_t = create_cross_section(alpha)\n",
    "    fig = go.Figure()\n",
    "\n",
    "    fig.add_trace(go.Scatter(x=x, y=y, fill='tozeroy', mode='none', fillcolor='rgba(0, 0, 255, 0.5)', name='Stucture'))\n",
    "    fig.add_trace(go.Scatter(x=x, y=y_plus_t, fill='tonexty', mode='none', fillcolor='rgba(255, 0, 0, 0.5)', name='Deposited layer'))\n",
    "\n",
    "    max_x = np.max(x)\n",
    "    max_y = np.max(y_plus_t)\n",
    "    lim_y = 2\n",
    "    lim_x = 6\n",
    "    fig.update_layout(\n",
    "        title=f'Cross-section with angle {alpha} degrees',\n",
    "        xaxis=dict(\n",
    "            range=[0, max_x],\n",
    "            scaleratio=1,\n",
    "            constrain='domain',\n",
    "            showticklabels=False,\n",
    "            showgrid=True,\n",
    "            zeroline=False\n",
    "        ),\n",
    "        yaxis=dict(\n",
    "            range=[0, lim_y],\n",
    "            scaleanchor='x',\n",
    "            scaleratio=1,\n",
    "            constrain='domain',\n",
    "            showgrid=False,\n",
    "            zeroline=False\n",
    "        ),\n",
    "        plot_bgcolor='white',\n",
    "        margin=dict(l=20, r=20, t=80, b=20),\n",
    "        autosize=False,\n",
    "        width=1000,\n",
    "        height=600\n",
    "    )\n",
    "\n",
    "    fig.show()\n",
    "    update_thickness_display(alpha_slider.value)\n",
    "\n",
    "thickness_display = Label()\n",
    "style = {'description_width': 'initial'} \n",
    "display(thickness_display)\n",
    "alpha_slider = Dropdown(options = [0, 10, 20, 30, 40, 50, 60, 70, 80, 90], value=30, description='Angle (degrees)',style=style)\n",
    "interact(plot_cross_section, alpha=alpha_slider)"
   ]
  },
  {
   "cell_type": "markdown",
   "id": "f5758318-2f66-4822-a6ce-2762cfc7c99c",
   "metadata": {},
   "source": [
    "## This is the end of the notebook on PVD"
   ]
  }
 ],
 "metadata": {
  "kernelspec": {
   "display_name": "Python3",
   "language": "python",
   "name": "python3"
  },
  "language_info": {
   "codemirror_mode": {
    "name": "ipython",
    "version": 3
   },
   "file_extension": ".py",
   "mimetype": "text/x-python",
   "name": "python",
   "nbconvert_exporter": "python",
   "pygments_lexer": "ipython3",
   "version": "3.11.2"
  }
 },
 "nbformat": 4,
 "nbformat_minor": 5
}
